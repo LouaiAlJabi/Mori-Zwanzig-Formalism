{
 "cells": [
  {
   "cell_type": "code",
   "execution_count": 2,
   "id": "68b9c907-49ca-4e69-bf13-1876cb1dd4fd",
   "metadata": {},
   "outputs": [],
   "source": [
    "import Lou_MoriZwanzig"
   ]
  },
  {
   "cell_type": "code",
   "execution_count": 3,
   "id": "18151d56-cd8b-4f2d-ba36-f5fc7f41a5ba",
   "metadata": {},
   "outputs": [
    {
     "ename": "KeyboardInterrupt",
     "evalue": "",
     "output_type": "error",
     "traceback": [
      "\u001b[0;31m---------------------------------------------------------------------------\u001b[0m",
      "\u001b[0;31mKeyboardInterrupt\u001b[0m                         Traceback (most recent call last)",
      "Cell \u001b[0;32mIn[3], line 1\u001b[0m\n\u001b[0;32m----> 1\u001b[0m \u001b[38;5;28;01mimport\u001b[39;00m \u001b[38;5;21;01mLou_Bootstrap\u001b[39;00m\n",
      "File \u001b[0;32m<frozen importlib._bootstrap>:224\u001b[0m, in \u001b[0;36m_lock_unlock_module\u001b[0;34m(name)\u001b[0m\n",
      "File \u001b[0;32m<frozen importlib._bootstrap>:120\u001b[0m, in \u001b[0;36macquire\u001b[0;34m(self)\u001b[0m\n",
      "\u001b[0;31mKeyboardInterrupt\u001b[0m: "
     ]
    }
   ],
   "source": [
    "import Lou_Re"
   ]
  },
  {
   "cell_type": "code",
   "execution_count": null,
   "id": "982a86ad-cc34-46be-8478-a92a6c15c6ae",
   "metadata": {},
   "outputs": [],
   "source": []
  }
 ],
 "metadata": {
  "kernelspec": {
   "display_name": "Python 3 (ipykernel)",
   "language": "python",
   "name": "python3"
  },
  "language_info": {
   "codemirror_mode": {
    "name": "ipython",
    "version": 3
   },
   "file_extension": ".py",
   "mimetype": "text/x-python",
   "name": "python",
   "nbconvert_exporter": "python",
   "pygments_lexer": "ipython3",
   "version": "3.11.7"
  }
 },
 "nbformat": 4,
 "nbformat_minor": 5
}
